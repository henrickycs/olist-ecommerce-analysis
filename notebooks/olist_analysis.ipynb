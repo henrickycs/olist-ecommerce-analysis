{
 "cells": [
  {
   "cell_type": "markdown",
   "id": "de222f54-ce1e-4786-8801-0675b77c2afe",
   "metadata": {},
   "source": [
    "# Olist Brazilian E-commerce Public Dataset\n",
    "-  https://www.kaggle.com/datasets/olistbr/brazilian-ecommerce\n",
    "\n",
    "## Descrição\n",
    "\n",
    "This is a Brazilian ecommerce public dataset of orders made at Olist Store. The dataset has information of 100k orders from 2016 to 2018 made at multiple marketplaces in Brazil. Its features allows viewing an order from multiple dimensions: from order status, price, payment and freight performance to customer location, product attributes and finally reviews written by customers. We also released a geolocation dataset that relates Brazilian zip codes to lat/lng coordinates.\n",
    "\n",
    "This is real commercial data, it has been anonymised, and references to the companies and partners in the review text have been replaced with the names of Game of Thrones great houses."
   ]
  },
  {
   "cell_type": "markdown",
   "id": "3adc8be9-502e-45a8-88f2-d13e65a214ab",
   "metadata": {},
   "source": [
    "___"
   ]
  },
  {
   "cell_type": "markdown",
   "id": "1707f1db-cf64-4a13-ad6e-624b1cdfacc7",
   "metadata": {},
   "source": [
    "## Perguntas para o Projeto\n",
    "- 📦 Entender as categorias de produtos mais populares\n",
    "- 🛒 Tempo de Entrega por Estado\n",
    "- ⏳ Atrasos na entrega afetam as avaliações dos clientes?"
   ]
  },
  {
   "cell_type": "markdown",
   "id": "04f44581-d2c5-4950-95dd-6b817fae2065",
   "metadata": {},
   "source": [
    "___"
   ]
  },
  {
   "cell_type": "markdown",
   "id": "7c38e435-6d7a-4175-ae50-8a2d5451a186",
   "metadata": {},
   "source": [
    "## Importação de bibliotecas e Visualização inicial dos dados"
   ]
  },
  {
   "cell_type": "code",
   "execution_count": 1,
   "id": "4eea1dc7-9efc-41a2-8bb8-b839a5ebe287",
   "metadata": {},
   "outputs": [],
   "source": [
    "import pandas as pd\n",
    "import numpy as np\n",
    "import matplotlib.pyplot as plt\n",
    "import seaborn as sns"
   ]
  },
  {
   "cell_type": "code",
   "execution_count": 2,
   "id": "4605c64b-db37-4145-b95c-cfca46338296",
   "metadata": {},
   "outputs": [],
   "source": [
    "customers = pd.read_csv(\"./data/olist_customers_dataset.csv\")\n",
    "orders = pd.read_csv(\"./data/olist_orders_dataset.csv\")\n",
    "items = pd.read_csv(\"./data/olist_order_items_dataset.csv\")\n",
    "payments = pd.read_csv(\"./data/olist_order_payments_dataset.csv\")\n",
    "products = pd.read_csv(\"./data/olist_products_dataset.csv\")\n",
    "sellers = pd.read_csv(\"./data/olist_sellers_dataset.csv\")\n",
    "reviews = pd.read_csv(\"./data/olist_order_reviews_dataset.csv\")\n",
    "category = pd.read_csv(\"./data/product_category_name_translation.csv\")"
   ]
  },
  {
   "cell_type": "code",
   "execution_count": 3,
   "id": "db9104a5-e6aa-46a6-ab88-7f3d41859f84",
   "metadata": {},
   "outputs": [
    {
     "name": "stdout",
     "output_type": "stream",
     "text": [
      "Orders: \n"
     ]
    },
    {
     "data": {
      "text/html": [
       "<div>\n",
       "<style scoped>\n",
       "    .dataframe tbody tr th:only-of-type {\n",
       "        vertical-align: middle;\n",
       "    }\n",
       "\n",
       "    .dataframe tbody tr th {\n",
       "        vertical-align: top;\n",
       "    }\n",
       "\n",
       "    .dataframe thead th {\n",
       "        text-align: right;\n",
       "    }\n",
       "</style>\n",
       "<table border=\"1\" class=\"dataframe\">\n",
       "  <thead>\n",
       "    <tr style=\"text-align: right;\">\n",
       "      <th></th>\n",
       "      <th>order_id</th>\n",
       "      <th>customer_id</th>\n",
       "      <th>order_status</th>\n",
       "      <th>order_purchase_timestamp</th>\n",
       "      <th>order_approved_at</th>\n",
       "      <th>order_delivered_carrier_date</th>\n",
       "      <th>order_delivered_customer_date</th>\n",
       "      <th>order_estimated_delivery_date</th>\n",
       "    </tr>\n",
       "  </thead>\n",
       "  <tbody>\n",
       "    <tr>\n",
       "      <th>0</th>\n",
       "      <td>e481f51cbdc54678b7cc49136f2d6af7</td>\n",
       "      <td>9ef432eb6251297304e76186b10a928d</td>\n",
       "      <td>delivered</td>\n",
       "      <td>2017-10-02 10:56:33</td>\n",
       "      <td>2017-10-02 11:07:15</td>\n",
       "      <td>2017-10-04 19:55:00</td>\n",
       "      <td>2017-10-10 21:25:13</td>\n",
       "      <td>2017-10-18 00:00:00</td>\n",
       "    </tr>\n",
       "    <tr>\n",
       "      <th>1</th>\n",
       "      <td>53cdb2fc8bc7dce0b6741e2150273451</td>\n",
       "      <td>b0830fb4747a6c6d20dea0b8c802d7ef</td>\n",
       "      <td>delivered</td>\n",
       "      <td>2018-07-24 20:41:37</td>\n",
       "      <td>2018-07-26 03:24:27</td>\n",
       "      <td>2018-07-26 14:31:00</td>\n",
       "      <td>2018-08-07 15:27:45</td>\n",
       "      <td>2018-08-13 00:00:00</td>\n",
       "    </tr>\n",
       "    <tr>\n",
       "      <th>2</th>\n",
       "      <td>47770eb9100c2d0c44946d9cf07ec65d</td>\n",
       "      <td>41ce2a54c0b03bf3443c3d931a367089</td>\n",
       "      <td>delivered</td>\n",
       "      <td>2018-08-08 08:38:49</td>\n",
       "      <td>2018-08-08 08:55:23</td>\n",
       "      <td>2018-08-08 13:50:00</td>\n",
       "      <td>2018-08-17 18:06:29</td>\n",
       "      <td>2018-09-04 00:00:00</td>\n",
       "    </tr>\n",
       "    <tr>\n",
       "      <th>3</th>\n",
       "      <td>949d5b44dbf5de918fe9c16f97b45f8a</td>\n",
       "      <td>f88197465ea7920adcdbec7375364d82</td>\n",
       "      <td>delivered</td>\n",
       "      <td>2017-11-18 19:28:06</td>\n",
       "      <td>2017-11-18 19:45:59</td>\n",
       "      <td>2017-11-22 13:39:59</td>\n",
       "      <td>2017-12-02 00:28:42</td>\n",
       "      <td>2017-12-15 00:00:00</td>\n",
       "    </tr>\n",
       "    <tr>\n",
       "      <th>4</th>\n",
       "      <td>ad21c59c0840e6cb83a9ceb5573f8159</td>\n",
       "      <td>8ab97904e6daea8866dbdbc4fb7aad2c</td>\n",
       "      <td>delivered</td>\n",
       "      <td>2018-02-13 21:18:39</td>\n",
       "      <td>2018-02-13 22:20:29</td>\n",
       "      <td>2018-02-14 19:46:34</td>\n",
       "      <td>2018-02-16 18:17:02</td>\n",
       "      <td>2018-02-26 00:00:00</td>\n",
       "    </tr>\n",
       "  </tbody>\n",
       "</table>\n",
       "</div>"
      ],
      "text/plain": [
       "                           order_id                       customer_id  \\\n",
       "0  e481f51cbdc54678b7cc49136f2d6af7  9ef432eb6251297304e76186b10a928d   \n",
       "1  53cdb2fc8bc7dce0b6741e2150273451  b0830fb4747a6c6d20dea0b8c802d7ef   \n",
       "2  47770eb9100c2d0c44946d9cf07ec65d  41ce2a54c0b03bf3443c3d931a367089   \n",
       "3  949d5b44dbf5de918fe9c16f97b45f8a  f88197465ea7920adcdbec7375364d82   \n",
       "4  ad21c59c0840e6cb83a9ceb5573f8159  8ab97904e6daea8866dbdbc4fb7aad2c   \n",
       "\n",
       "  order_status order_purchase_timestamp    order_approved_at  \\\n",
       "0    delivered      2017-10-02 10:56:33  2017-10-02 11:07:15   \n",
       "1    delivered      2018-07-24 20:41:37  2018-07-26 03:24:27   \n",
       "2    delivered      2018-08-08 08:38:49  2018-08-08 08:55:23   \n",
       "3    delivered      2017-11-18 19:28:06  2017-11-18 19:45:59   \n",
       "4    delivered      2018-02-13 21:18:39  2018-02-13 22:20:29   \n",
       "\n",
       "  order_delivered_carrier_date order_delivered_customer_date  \\\n",
       "0          2017-10-04 19:55:00           2017-10-10 21:25:13   \n",
       "1          2018-07-26 14:31:00           2018-08-07 15:27:45   \n",
       "2          2018-08-08 13:50:00           2018-08-17 18:06:29   \n",
       "3          2017-11-22 13:39:59           2017-12-02 00:28:42   \n",
       "4          2018-02-14 19:46:34           2018-02-16 18:17:02   \n",
       "\n",
       "  order_estimated_delivery_date  \n",
       "0           2017-10-18 00:00:00  \n",
       "1           2018-08-13 00:00:00  \n",
       "2           2018-09-04 00:00:00  \n",
       "3           2017-12-15 00:00:00  \n",
       "4           2018-02-26 00:00:00  "
      ]
     },
     "execution_count": 3,
     "metadata": {},
     "output_type": "execute_result"
    }
   ],
   "source": [
    "print(\"Orders: \")\n",
    "orders.head()"
   ]
  },
  {
   "cell_type": "code",
   "execution_count": 4,
   "id": "596b4b07-917d-4c31-9bd9-e08fbbddfed2",
   "metadata": {},
   "outputs": [
    {
     "name": "stdout",
     "output_type": "stream",
     "text": [
      "Payments: \n"
     ]
    },
    {
     "data": {
      "text/html": [
       "<div>\n",
       "<style scoped>\n",
       "    .dataframe tbody tr th:only-of-type {\n",
       "        vertical-align: middle;\n",
       "    }\n",
       "\n",
       "    .dataframe tbody tr th {\n",
       "        vertical-align: top;\n",
       "    }\n",
       "\n",
       "    .dataframe thead th {\n",
       "        text-align: right;\n",
       "    }\n",
       "</style>\n",
       "<table border=\"1\" class=\"dataframe\">\n",
       "  <thead>\n",
       "    <tr style=\"text-align: right;\">\n",
       "      <th></th>\n",
       "      <th>order_id</th>\n",
       "      <th>payment_sequential</th>\n",
       "      <th>payment_type</th>\n",
       "      <th>payment_installments</th>\n",
       "      <th>payment_value</th>\n",
       "    </tr>\n",
       "  </thead>\n",
       "  <tbody>\n",
       "    <tr>\n",
       "      <th>0</th>\n",
       "      <td>b81ef226f3fe1789b1e8b2acac839d17</td>\n",
       "      <td>1</td>\n",
       "      <td>credit_card</td>\n",
       "      <td>8</td>\n",
       "      <td>99.33</td>\n",
       "    </tr>\n",
       "    <tr>\n",
       "      <th>1</th>\n",
       "      <td>a9810da82917af2d9aefd1278f1dcfa0</td>\n",
       "      <td>1</td>\n",
       "      <td>credit_card</td>\n",
       "      <td>1</td>\n",
       "      <td>24.39</td>\n",
       "    </tr>\n",
       "    <tr>\n",
       "      <th>2</th>\n",
       "      <td>25e8ea4e93396b6fa0d3dd708e76c1bd</td>\n",
       "      <td>1</td>\n",
       "      <td>credit_card</td>\n",
       "      <td>1</td>\n",
       "      <td>65.71</td>\n",
       "    </tr>\n",
       "    <tr>\n",
       "      <th>3</th>\n",
       "      <td>ba78997921bbcdc1373bb41e913ab953</td>\n",
       "      <td>1</td>\n",
       "      <td>credit_card</td>\n",
       "      <td>8</td>\n",
       "      <td>107.78</td>\n",
       "    </tr>\n",
       "    <tr>\n",
       "      <th>4</th>\n",
       "      <td>42fdf880ba16b47b59251dd489d4441a</td>\n",
       "      <td>1</td>\n",
       "      <td>credit_card</td>\n",
       "      <td>2</td>\n",
       "      <td>128.45</td>\n",
       "    </tr>\n",
       "  </tbody>\n",
       "</table>\n",
       "</div>"
      ],
      "text/plain": [
       "                           order_id  payment_sequential payment_type  \\\n",
       "0  b81ef226f3fe1789b1e8b2acac839d17                   1  credit_card   \n",
       "1  a9810da82917af2d9aefd1278f1dcfa0                   1  credit_card   \n",
       "2  25e8ea4e93396b6fa0d3dd708e76c1bd                   1  credit_card   \n",
       "3  ba78997921bbcdc1373bb41e913ab953                   1  credit_card   \n",
       "4  42fdf880ba16b47b59251dd489d4441a                   1  credit_card   \n",
       "\n",
       "   payment_installments  payment_value  \n",
       "0                     8          99.33  \n",
       "1                     1          24.39  \n",
       "2                     1          65.71  \n",
       "3                     8         107.78  \n",
       "4                     2         128.45  "
      ]
     },
     "execution_count": 4,
     "metadata": {},
     "output_type": "execute_result"
    }
   ],
   "source": [
    "print(\"Payments: \")\n",
    "payments.head()"
   ]
  },
  {
   "cell_type": "code",
   "execution_count": 5,
   "id": "838591ae-b4b5-4c1c-a4ae-be4dd40a4cbe",
   "metadata": {},
   "outputs": [
    {
     "name": "stdout",
     "output_type": "stream",
     "text": [
      "Products: \n"
     ]
    },
    {
     "data": {
      "text/html": [
       "<div>\n",
       "<style scoped>\n",
       "    .dataframe tbody tr th:only-of-type {\n",
       "        vertical-align: middle;\n",
       "    }\n",
       "\n",
       "    .dataframe tbody tr th {\n",
       "        vertical-align: top;\n",
       "    }\n",
       "\n",
       "    .dataframe thead th {\n",
       "        text-align: right;\n",
       "    }\n",
       "</style>\n",
       "<table border=\"1\" class=\"dataframe\">\n",
       "  <thead>\n",
       "    <tr style=\"text-align: right;\">\n",
       "      <th></th>\n",
       "      <th>product_id</th>\n",
       "      <th>product_category_name</th>\n",
       "      <th>product_name_lenght</th>\n",
       "      <th>product_description_lenght</th>\n",
       "      <th>product_photos_qty</th>\n",
       "      <th>product_weight_g</th>\n",
       "      <th>product_length_cm</th>\n",
       "      <th>product_height_cm</th>\n",
       "      <th>product_width_cm</th>\n",
       "    </tr>\n",
       "  </thead>\n",
       "  <tbody>\n",
       "    <tr>\n",
       "      <th>0</th>\n",
       "      <td>1e9e8ef04dbcff4541ed26657ea517e5</td>\n",
       "      <td>perfumaria</td>\n",
       "      <td>40.0</td>\n",
       "      <td>287.0</td>\n",
       "      <td>1.0</td>\n",
       "      <td>225.0</td>\n",
       "      <td>16.0</td>\n",
       "      <td>10.0</td>\n",
       "      <td>14.0</td>\n",
       "    </tr>\n",
       "    <tr>\n",
       "      <th>1</th>\n",
       "      <td>3aa071139cb16b67ca9e5dea641aaa2f</td>\n",
       "      <td>artes</td>\n",
       "      <td>44.0</td>\n",
       "      <td>276.0</td>\n",
       "      <td>1.0</td>\n",
       "      <td>1000.0</td>\n",
       "      <td>30.0</td>\n",
       "      <td>18.0</td>\n",
       "      <td>20.0</td>\n",
       "    </tr>\n",
       "    <tr>\n",
       "      <th>2</th>\n",
       "      <td>96bd76ec8810374ed1b65e291975717f</td>\n",
       "      <td>esporte_lazer</td>\n",
       "      <td>46.0</td>\n",
       "      <td>250.0</td>\n",
       "      <td>1.0</td>\n",
       "      <td>154.0</td>\n",
       "      <td>18.0</td>\n",
       "      <td>9.0</td>\n",
       "      <td>15.0</td>\n",
       "    </tr>\n",
       "    <tr>\n",
       "      <th>3</th>\n",
       "      <td>cef67bcfe19066a932b7673e239eb23d</td>\n",
       "      <td>bebes</td>\n",
       "      <td>27.0</td>\n",
       "      <td>261.0</td>\n",
       "      <td>1.0</td>\n",
       "      <td>371.0</td>\n",
       "      <td>26.0</td>\n",
       "      <td>4.0</td>\n",
       "      <td>26.0</td>\n",
       "    </tr>\n",
       "    <tr>\n",
       "      <th>4</th>\n",
       "      <td>9dc1a7de274444849c219cff195d0b71</td>\n",
       "      <td>utilidades_domesticas</td>\n",
       "      <td>37.0</td>\n",
       "      <td>402.0</td>\n",
       "      <td>4.0</td>\n",
       "      <td>625.0</td>\n",
       "      <td>20.0</td>\n",
       "      <td>17.0</td>\n",
       "      <td>13.0</td>\n",
       "    </tr>\n",
       "  </tbody>\n",
       "</table>\n",
       "</div>"
      ],
      "text/plain": [
       "                         product_id  product_category_name  \\\n",
       "0  1e9e8ef04dbcff4541ed26657ea517e5             perfumaria   \n",
       "1  3aa071139cb16b67ca9e5dea641aaa2f                  artes   \n",
       "2  96bd76ec8810374ed1b65e291975717f          esporte_lazer   \n",
       "3  cef67bcfe19066a932b7673e239eb23d                  bebes   \n",
       "4  9dc1a7de274444849c219cff195d0b71  utilidades_domesticas   \n",
       "\n",
       "   product_name_lenght  product_description_lenght  product_photos_qty  \\\n",
       "0                 40.0                       287.0                 1.0   \n",
       "1                 44.0                       276.0                 1.0   \n",
       "2                 46.0                       250.0                 1.0   \n",
       "3                 27.0                       261.0                 1.0   \n",
       "4                 37.0                       402.0                 4.0   \n",
       "\n",
       "   product_weight_g  product_length_cm  product_height_cm  product_width_cm  \n",
       "0             225.0               16.0               10.0              14.0  \n",
       "1            1000.0               30.0               18.0              20.0  \n",
       "2             154.0               18.0                9.0              15.0  \n",
       "3             371.0               26.0                4.0              26.0  \n",
       "4             625.0               20.0               17.0              13.0  "
      ]
     },
     "execution_count": 5,
     "metadata": {},
     "output_type": "execute_result"
    }
   ],
   "source": [
    "print(\"Products: \")\n",
    "products.head()"
   ]
  },
  {
   "cell_type": "code",
   "execution_count": 6,
   "id": "657265fd-5239-439c-9bb9-098ddff39076",
   "metadata": {},
   "outputs": [
    {
     "name": "stdout",
     "output_type": "stream",
     "text": [
      "Category: \n"
     ]
    },
    {
     "data": {
      "text/html": [
       "<div>\n",
       "<style scoped>\n",
       "    .dataframe tbody tr th:only-of-type {\n",
       "        vertical-align: middle;\n",
       "    }\n",
       "\n",
       "    .dataframe tbody tr th {\n",
       "        vertical-align: top;\n",
       "    }\n",
       "\n",
       "    .dataframe thead th {\n",
       "        text-align: right;\n",
       "    }\n",
       "</style>\n",
       "<table border=\"1\" class=\"dataframe\">\n",
       "  <thead>\n",
       "    <tr style=\"text-align: right;\">\n",
       "      <th></th>\n",
       "      <th>product_category_name</th>\n",
       "      <th>product_category_name_english</th>\n",
       "    </tr>\n",
       "  </thead>\n",
       "  <tbody>\n",
       "    <tr>\n",
       "      <th>0</th>\n",
       "      <td>beleza_saude</td>\n",
       "      <td>health_beauty</td>\n",
       "    </tr>\n",
       "    <tr>\n",
       "      <th>1</th>\n",
       "      <td>informatica_acessorios</td>\n",
       "      <td>computers_accessories</td>\n",
       "    </tr>\n",
       "    <tr>\n",
       "      <th>2</th>\n",
       "      <td>automotivo</td>\n",
       "      <td>auto</td>\n",
       "    </tr>\n",
       "    <tr>\n",
       "      <th>3</th>\n",
       "      <td>cama_mesa_banho</td>\n",
       "      <td>bed_bath_table</td>\n",
       "    </tr>\n",
       "    <tr>\n",
       "      <th>4</th>\n",
       "      <td>moveis_decoracao</td>\n",
       "      <td>furniture_decor</td>\n",
       "    </tr>\n",
       "  </tbody>\n",
       "</table>\n",
       "</div>"
      ],
      "text/plain": [
       "    product_category_name product_category_name_english\n",
       "0            beleza_saude                 health_beauty\n",
       "1  informatica_acessorios         computers_accessories\n",
       "2              automotivo                          auto\n",
       "3         cama_mesa_banho                bed_bath_table\n",
       "4        moveis_decoracao               furniture_decor"
      ]
     },
     "execution_count": 6,
     "metadata": {},
     "output_type": "execute_result"
    }
   ],
   "source": [
    "print(\"Category: \")\n",
    "category.head()"
   ]
  },
  {
   "cell_type": "markdown",
   "id": "41ae2f52-6d84-49a9-aeb9-536444ec06b7",
   "metadata": {},
   "source": [
    "___\n",
    "## Categorias mais vendidas"
   ]
  },
  {
   "cell_type": "code",
   "execution_count": 8,
   "id": "7a9bdeb0-ea1d-4104-98b8-00218531c693",
   "metadata": {},
   "outputs": [
    {
     "data": {
      "image/png": "[encoded data removed]",
      "text/plain": [
       "<Figure size 1000x500 with 1 Axes>"
      ]
     },
     "metadata": {},
     "output_type": "display_data"
    },
    {
     "data": {
      "text/plain": [
       "<Figure size 640x480 with 0 Axes>"
      ]
     },
     "metadata": {},
     "output_type": "display_data"
    }
   ],
   "source": [
    "plt.style.use('seaborn-v0_8-whitegrid')\n",
    "sns.set_palette(\"pastel\")\n",
    "\n",
    "top_categorias = items.merge(products, on='product_id') \\\n",
    "                      .merge(category, on='product_category_name') \\\n",
    "                      .groupby('product_category_name_english') \\\n",
    "                      .size().sort_values(ascending=False).head(10)\n",
    "\n",
    "plt.figure(figsize=(10, 5))\n",
    "sns.barplot(x=top_categorias.values, y=top_categorias.index)\n",
    "plt.title('Top 10 Categorias Mais Vendidas')\n",
    "plt.xlabel('Número de Vendas')\n",
    "plt.ylabel('Categoria')\n",
    "plt.show()"
   ]
  },
  {
   "cell_type": "markdown",
   "id": "739b27ea-841c-48c6-a374-8820097e5fa7",
   "metadata": {},
   "source": [
    "A análise revelou que as categorias com maior volume de vendas na plataforma são:\n",
    "\n",
    "- bed_bath_table\n",
    "- health_beauty\n",
    "- sports_leisure\n",
    "- furniture_decor\n",
    "\n",
    "Essas categorias indicam um forte apelo de produtos voltados ao bem-estar, conforto e estilo de vida, sugerindo que os consumidores da plataforma priorizam itens para o lar, cuidados pessoais e lazer.\n",
    "\n",
    "Além disso, a variedade nas 10 primeiras posições aponta para um portfólio diversificado de produtos, o que pode ser um fator importante para atrair diferentes perfis de consumidores.\n",
    "\n",
    "Essa visão é útil para estratégias como:\n",
    "- Foco em estoque e logística dessas categorias líderes;\n",
    "- Otimização de campanhas de marketing para produtos mais procurados;\n",
    "- Potencial de upselling com produtos complementares dentro das categorias mais vendidas."
   ]
  },
  {
   "cell_type": "markdown",
   "id": "03429be6-ff7f-4237-b1f7-bd3a520f0c21",
   "metadata": {},
   "source": [
    "___\n",
    "## Analise do tempo de entrega"
   ]
  },
  {
   "cell_type": "code",
   "execution_count": 9,
   "id": "27606acd-bb32-4732-a816-1364e52dff05",
   "metadata": {},
   "outputs": [],
   "source": [
    "orders['order_delivered_customer_date'] = pd.to_datetime(orders['order_delivered_customer_date'])\n",
    "orders['order_estimated_delivery_date'] = pd.to_datetime(orders['order_estimated_delivery_date'])\n",
    "orders['order_purchase_timestamp'] = pd.to_datetime(orders['order_purchase_timestamp'])"
   ]
  },
  {
   "cell_type": "code",
   "execution_count": 10,
   "id": "03ed5cf4-eccc-49bf-a0f8-8479a80683d5",
   "metadata": {},
   "outputs": [],
   "source": [
    "orders['delivery_time'] = (orders['order_delivered_customer_date'] - orders['order_purchase_timestamp']).dt.days"
   ]
  },
  {
   "cell_type": "code",
   "execution_count": 11,
   "id": "a724121f-465c-4188-aacc-72895a69c8e0",
   "metadata": {},
   "outputs": [],
   "source": [
    "orders_customers = orders.merge(customers, on='customer_id')"
   ]
  },
  {
   "cell_type": "code",
   "execution_count": 12,
   "id": "b6dd56c8-39c3-4d55-a077-044b08eaab1a",
   "metadata": {},
   "outputs": [],
   "source": [
    "avg_delivery = orders_customers.groupby('customer_state')['delivery_time'].mean().sort_values(ascending=False)"
   ]
  },
  {
   "cell_type": "code",
   "execution_count": 13,
   "id": "e4de443d-e182-4834-a5b4-dcb34628c692",
   "metadata": {},
   "outputs": [
    {
     "data": {
      "image/png": "[encoded data removed]",
      "text/plain": [
       "<Figure size 1200x600 with 1 Axes>"
      ]
     },
     "metadata": {},
     "output_type": "display_data"
    },
    {
     "data": {
      "text/plain": [
       "<Figure size 640x480 with 0 Axes>"
      ]
     },
     "metadata": {},
     "output_type": "display_data"
    }
   ],
   "source": [
    "plt.figure(figsize=(12, 6))\n",
    "sns.barplot(x=avg_delivery.values, y=avg_delivery.index, hue=avg_delivery.index, palette='viridis', legend = False)\n",
    "plt.title('Tempo Médio de Entrega por Estado')\n",
    "plt.xlabel('Dias')\n",
    "plt.ylabel('Estado')\n",
    "plt.show()"
   ]
  },
  {
   "cell_type": "markdown",
   "id": "19faabcf-5399-4c13-9ce6-190826ab4f84",
   "metadata": {},
   "source": [
    "A análise mostra variações significativas no tempo médio de entrega entre os estados brasileiros. Estados mais distantes dos grandes centros logísticos (como o Norte e o Nordeste) tendem a ter prazos mais longos.\n",
    "\n",
    "Essa informação é crucial para:\n",
    "\n",
    "- Identificar regiões que exigem melhorias logísticas\n",
    "- Avaliar o cumprimento de prazos prometidos\n",
    "- Otimizar centros de distribuição ou parceiros de entrega\n"
   ]
  },
  {
   "cell_type": "markdown",
   "id": "a8bb416a-7253-4fc8-a803-d68231cc9567",
   "metadata": {},
   "source": [
    "___\n",
    "## Avaliação x Tempo de Entrega"
   ]
  },
  {
   "cell_type": "code",
   "execution_count": 14,
   "id": "e78cd337-f09e-4669-add9-4fa497ab6a85",
   "metadata": {},
   "outputs": [],
   "source": [
    "df_avaliacao = orders[['order_id', 'order_purchase_timestamp', 'order_delivered_customer_date', 'order_estimated_delivery_date']] \\\n",
    "    .merge(reviews[['order_id', 'review_score']], on='order_id')"
   ]
  },
  {
   "cell_type": "code",
   "execution_count": 15,
   "id": "ff9b7b8a-4297-48e4-b9f7-a0f681193189",
   "metadata": {},
   "outputs": [],
   "source": [
    "df_avaliacao['order_purchase_timestamp'] = pd.to_datetime(df_avaliacao['order_purchase_timestamp'])\n",
    "df_avaliacao['order_delivered_customer_date'] = pd.to_datetime(df_avaliacao['order_delivered_customer_date'])\n",
    "df_avaliacao['order_estimated_delivery_date'] = pd.to_datetime(df_avaliacao['order_estimated_delivery_date'])"
   ]
  },
  {
   "cell_type": "code",
   "execution_count": 16,
   "id": "9e5d600d-f3da-4ce1-ab44-d3237bb72940",
   "metadata": {},
   "outputs": [],
   "source": [
    "df_avaliacao['delivery_time'] = (df_avaliacao['order_delivered_customer_date'] - df_avaliacao['order_purchase_timestamp']).dt.days\n",
    "df_avaliacao['delivery_delay'] = (df_avaliacao['order_delivered_customer_date'] - df_avaliacao['order_estimated_delivery_date']).dt.days"
   ]
  },
  {
   "cell_type": "code",
   "execution_count": 17,
   "id": "57c31a15-adc7-451b-9879-419d3c96240f",
   "metadata": {},
   "outputs": [],
   "source": [
    "df_avaliacao = df_avaliacao.dropna()\n",
    "df_avaliacao = df_avaliacao[df_avaliacao['delivery_time'] > 0]"
   ]
  },
  {
   "cell_type": "code",
   "execution_count": 18,
   "id": "0ee0ce76-da71-4554-8dfe-55a9f9572075",
   "metadata": {},
   "outputs": [],
   "source": [
    "df_avaliacao['was_late'] = df_avaliacao['delivery_delay'] > 0"
   ]
  },
  {
   "cell_type": "code",
   "execution_count": 19,
   "id": "b1f13945-841e-44af-a0af-efdfbe367c2e",
   "metadata": {},
   "outputs": [
    {
     "data": {
      "image/png": "[encoded data removed]",
      "text/plain": [
       "<Figure size 800x500 with 1 Axes>"
      ]
     },
     "metadata": {},
     "output_type": "display_data"
    },
    {
     "data": {
      "text/plain": [
       "<Figure size 640x480 with 0 Axes>"
      ]
     },
     "metadata": {},
     "output_type": "display_data"
    }
   ],
   "source": [
    "plt.figure(figsize=(8, 5))\n",
    "sns.barplot(data=df_avaliacao, x='was_late', y='review_score', hue = 'was_late', palette='Set2', legend = False)\n",
    "plt.xticks([0, 1], ['Entregue no Prazo', 'Entregue com Atraso'])\n",
    "plt.title('Impacto do Atraso na Avaliação do Cliente')\n",
    "plt.ylabel('Nota Média')\n",
    "plt.xlabel('')\n",
    "plt.show()"
   ]
  },
  {
   "cell_type": "markdown",
   "id": "10c0bc03-1558-4b6e-9423-1f2f44cff58c",
   "metadata": {},
   "source": [
    "A análise mostra uma clara diferença entre avaliações de pedidos entregues no prazo e pedidos com atraso. Clientes que receberam seus pedidos **com atraso deram, em média, notas menores**, o que reforça a importância da logística no nível de satisfação.\n",
    "\n",
    "Isso destaca:\n",
    "- A necessidade de priorizar logística e comunicação com o cliente\n",
    "- O valor de alertas e estimativas de entrega mais realistas\n",
    "- A importância de considerar avaliações como KPI de logística"
   ]
  },
  {
   "cell_type": "markdown",
   "id": "b303623d-6864-451d-a863-aa638c5bfb32",
   "metadata": {},
   "source": [
    "___\n",
    "## Volume de pedidos por Estado"
   ]
  },
  {
   "cell_type": "code",
   "execution_count": 20,
   "id": "d49d563a-67ba-42e2-9b29-046ef73c2d5c",
   "metadata": {},
   "outputs": [],
   "source": [
    "orders_estado= orders.merge(customers, on='customer_id')"
   ]
  },
  {
   "cell_type": "code",
   "execution_count": 21,
   "id": "86f5ad87-6f45-4bae-a806-0c4b9f35e168",
   "metadata": {},
   "outputs": [],
   "source": [
    "orders_por_estado = orders_estado.groupby('customer_state')['order_id'].count().sort_values(ascending=False)"
   ]
  },
  {
   "cell_type": "code",
   "execution_count": 22,
   "id": "0e66c524-1503-4b37-8e44-a6c7bbc6c24e",
   "metadata": {},
   "outputs": [],
   "source": [
    "df_estados = orders_por_estado.reset_index()\n",
    "df_estados.columns = ['Estado', 'Total de Pedidos']"
   ]
  },
  {
   "cell_type": "code",
   "execution_count": 23,
   "id": "c01cf017-5984-4c28-8491-f83a20597ea9",
   "metadata": {},
   "outputs": [
    {
     "data": {
      "image/png": "[encoded data removed]",
      "text/plain": [
       "<Figure size 1200x600 with 1 Axes>"
      ]
     },
     "metadata": {},
     "output_type": "display_data"
    },
    {
     "data": {
      "text/plain": [
       "<Figure size 640x480 with 0 Axes>"
      ]
     },
     "metadata": {},
     "output_type": "display_data"
    }
   ],
   "source": [
    "plt.figure(figsize=(12, 6))\n",
    "sns.barplot(data=df_estados, x='Total de Pedidos', y='Estado', hue= 'Estado', palette='Blues_d')\n",
    "plt.title('Total de Pedidos por Estado', fontsize=14, weight='bold')\n",
    "plt.xlabel('Número de Pedidos')\n",
    "plt.ylabel('Estado')\n",
    "plt.show()"
   ]
  },
  {
   "cell_type": "markdown",
   "id": "11e8c3ff-4afc-4ede-9ef6-e38cb499de56",
   "metadata": {},
   "source": [
    "A análise mostra que os estados com maior número de pedidos são, principalmente:\n",
    "\n",
    "- **São Paulo (SP)**\n",
    "- **Rio de Janeiro (RJ)**\n",
    "- **Minas Gerais (MG)**\n",
    "\n",
    "Essa concentração é coerente com a densidade populacional e o poder de consumo dessas regiões."
   ]
  },
  {
   "cell_type": "markdown",
   "id": "14a3b89e-ad1b-4547-81ca-68809ea6364e",
   "metadata": {},
   "source": [
    "Ticket Médio = Total de pagamentos / Numero de pedidos"
   ]
  },
  {
   "cell_type": "code",
   "execution_count": 24,
   "id": "2e595701-4054-45a0-a267-29461791caf5",
   "metadata": {},
   "outputs": [],
   "source": [
    "df_ticket = orders.merge(payments, on='order_id') \\\n",
    "                  .merge(customers[['customer_id', 'customer_state']], on='customer_id')"
   ]
  },
  {
   "cell_type": "code",
   "execution_count": 25,
   "id": "48c36f59-63a4-4032-a397-f312aaf0fd75",
   "metadata": {},
   "outputs": [],
   "source": [
    "ticket_por_estado = df_ticket.groupby('customer_state').agg({\n",
    "    'payment_value': 'sum',\n",
    "    'order_id': 'nunique'\n",
    "}).reset_index()"
   ]
  },
  {
   "cell_type": "code",
   "execution_count": 26,
   "id": "b5d71ed9-8fbb-402d-b81f-b4a989876a43",
   "metadata": {},
   "outputs": [],
   "source": [
    "ticket_por_estado['ticket_medio'] = ticket_por_estado['payment_value'] / ticket_por_estado['order_id']"
   ]
  },
  {
   "cell_type": "code",
   "execution_count": 27,
   "id": "9ae9df3b-74a8-4b25-96f9-160c096fcb48",
   "metadata": {},
   "outputs": [],
   "source": [
    "ticket_por_estado = ticket_por_estado.sort_values(by='ticket_medio', ascending=False)"
   ]
  },
  {
   "cell_type": "code",
   "execution_count": 28,
   "id": "f285e838-89bf-4a9d-9038-71d713a3ee8e",
   "metadata": {},
   "outputs": [
    {
     "data": {
      "image/png": "[encoded data removed]",
      "text/plain": [
       "<Figure size 1200x600 with 1 Axes>"
      ]
     },
     "metadata": {},
     "output_type": "display_data"
    },
    {
     "data": {
      "text/plain": [
       "<Figure size 640x480 with 0 Axes>"
      ]
     },
     "metadata": {},
     "output_type": "display_data"
    }
   ],
   "source": [
    "plt.figure(figsize=(12, 6))\n",
    "sns.barplot(data=ticket_por_estado, x='ticket_medio', y='customer_state', hue='customer_state', palette='magma')\n",
    "plt.title('Ticket Médio por Estado', fontsize=14, weight='bold')\n",
    "plt.xlabel('R$ por Pedido')\n",
    "plt.ylabel('Estado')\n",
    "plt.show()"
   ]
  },
  {
   "cell_type": "markdown",
   "id": "307a552f-4321-45d4-bbc2-c2139d24c798",
   "metadata": {},
   "source": [
    "A análise revela que alguns estados, apesar de terem menor volume de pedidos, apresentam **ticket médio mais alto**\n",
    "\n",
    "Isso pode indicar:\n",
    "- Maior poder aquisitivo em algumas regiões\n",
    "- Produtos mais caros ou compras em maior quantidade\n",
    "\n",
    "Já estados como **São Paulo (SP)** e **Minas Gerais (MG)**, apesar do alto volume, têm ticket médio mais estável e amplo alcance."
   ]
  },
  {
   "cell_type": "markdown",
   "id": "f8998e75-040c-4da9-bd88-62fd53932e41",
   "metadata": {},
   "source": [
    "___\n",
    "# Conclusão\n",
    "Este projeto teve como objetivo explorar os dados da Olist, uma plataforma de e-commerce brasileira, com foco em identificar padrões de comportamento dos consumidores e gargalos logísticos. Através das análises realizadas, foi possível responder perguntas relevantes para o negócio:\n",
    "\n",
    "🔹 📦 Categorias de Produtos Mais Populares<br>\n",
    "A análise mostrou que categorias como \"bed_bath_table\", \"health_beauty\" e \"sports_leisure\" são líderes em volume de vendas. Isso indica uma forte demanda por produtos voltados ao bem-estar, cuidados pessoais e itens para o lar, segmentos estratégicos para campanhas de marketing e gestão de estoque.\n",
    "\n",
    "🔹 ⏳ Tempo de Entrega e Avaliação do Cliente<br>\n",
    "Identificou-se que estados com maior distância dos centros logísticos, como regiões Norte e Nordeste, apresentam tempo médio de entrega significativamente maior. Essa informação é essencial para decisões sobre expansão logística.\n",
    "\n",
    "🔹 💬 Atrasos na Entrega Afetam as Avaliações?<br>\n",
    "Sim. Clientes cujos pedidos chegaram com atraso atribuíram notas médias mais baixas, reforçando a correlação negativa entre eficiência logística e satisfação do cliente. O dado sugere que otimizar prazos de entrega pode impactar diretamente na reputação da plataforma.\n",
    "\n",
    "📌 Considerações Finais<br>\n",
    "Os insights obtidos fornecem subsídios para:\n",
    "\n",
    "- Priorizar melhorias logísticas em regiões com alto atraso\n",
    "- Focar em categorias com maior giro para promoções ou recomendações\n",
    "- Mapear o impacto do tempo de entrega na experiência do cliente\n",
    "- Guiar decisões baseadas em dados para aumentar a conversão, retenção e satisfação"
   ]
  }
 ],
 "metadata": {
  "kernelspec": {
   "display_name": "Python 3 (ipykernel)",
   "language": "python",
   "name": "python3"
  },
  "language_info": {
   "codemirror_mode": {
    "name": "ipython",
    "version": 3
   },
   "file_extension": ".py",
   "mimetype": "text/x-python",
   "name": "python",
   "nbconvert_exporter": "python",
   "pygments_lexer": "ipython3",
   "version": "3.12.6"
  }
 },
 "nbformat": 4,
 "nbformat_minor": 5
}
